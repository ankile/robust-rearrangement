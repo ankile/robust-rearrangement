{
 "cells": [
  {
   "cell_type": "code",
   "execution_count": null,
   "metadata": {},
   "outputs": [],
   "source": [
    "from src.common.files import get_processed_paths, get_processed_path\n",
    "import zarr\n",
    "import numpy as np\n",
    "\n",
    "from src.visualization.render_mp4 import create_mp4_jupyter"
   ]
  },
  {
   "cell_type": "code",
   "execution_count": null,
   "metadata": {},
   "outputs": [],
   "source": [
    "# Get a sim and a real file\n",
    "z_sim = get_processed_path(\n",
    "    controller=\"diffik\",\n",
    "    domain=[\"sim\"],\n",
    "    task=[\"one_leg\"],\n",
    "    demo_source=\"rollout\", #\"teleop\",\n",
    "    demo_outcome=\"success\",\n",
    "    randomness=[\"med\"],\n",
    "    suffix=None,\n",
    ")\n",
    "\n",
    "print(z_sim)\n",
    "\n",
    "z_sim = zarr.open(z_sim)\n",
    "\n",
    "print(z_sim.episode_ends.shape)"
   ]
  },
  {
   "cell_type": "code",
   "execution_count": null,
   "metadata": {},
   "outputs": [],
   "source": [
    "ep_boundaries = [(i, j) for i, j in zip([0]+list(z_sim.episode_ends[:]), z_sim.episode_ends)]\n",
    "\n",
    "\n",
    "# Create the video\n",
    "for i, (start, end) in enumerate(ep_boundaries[:5]):\n",
    "    imgs1 = z_sim[\"color_image1\"][start:end]\n",
    "    imgs2 = z_sim[\"color_image2\"][start:end]\n",
    "\n",
    "    imgs = np.concatenate([imgs1, imgs2], axis=2)\n",
    "\n",
    "    # Split the images into episodes\n",
    "    create_mp4_jupyter(\n",
    "        imgs,\n",
    "        f\"episode_{i}.mp4\",\n",
    "        fps=20,\n",
    "        speed_annotation=True,\n",
    "    )\n"
   ]
  },
  {
   "cell_type": "code",
   "execution_count": null,
   "metadata": {},
   "outputs": [],
   "source": []
  }
 ],
 "metadata": {
  "kernelspec": {
   "display_name": "rr",
   "language": "python",
   "name": "python3"
  },
  "language_info": {
   "codemirror_mode": {
    "name": "ipython",
    "version": 3
   },
   "file_extension": ".py",
   "mimetype": "text/x-python",
   "name": "python",
   "nbconvert_exporter": "python",
   "pygments_lexer": "ipython3",
   "version": "3.8.19"
  }
 },
 "nbformat": 4,
 "nbformat_minor": 2
}
