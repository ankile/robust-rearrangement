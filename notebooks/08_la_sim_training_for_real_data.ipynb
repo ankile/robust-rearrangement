{
 "cells": [
  {
   "cell_type": "code",
   "execution_count": null,
   "metadata": {},
   "outputs": [],
   "source": [
    "import os\n",
    "from src.common.files import get_processed_paths\n",
    "from src.visualization.render_mp4 import create_mp4_jupyter, create_mp4\n",
    "import numpy as np\n",
    "\n",
    "import zarr\n",
    "\n",
    "os.environ[\"DATA_DIR_PROCESSED\"] = \"/home/gridsan/groups/furniture-diffusion/rr-data/\"\n",
    "paths = get_processed_paths(\n",
    "    controller=\"diffik\",\n",
    "    domain=\"sim\",\n",
    "    task=[\"one_leg\", \"one_leg_simple\"],\n",
    "    demo_source=[\"teleop\", \"rollout\"],\n",
    "    randomness=[\"med\",\"med_perturb\",\"low\"],\n",
    "    demo_outcome=\"success\",\n",
    ")\n",
    "for path in paths:\n",
    "    print(path)\n",
    "for path in paths:\n",
    "    print(\"\\n\"*10)\n",
    "    print(f\"Processing {path}\")\n",
    "\n",
    "    z = zarr.open(path)\n",
    "\n",
    "    ep_ends = z[\"episode_ends\"][:-1]\n",
    "    imgs2 = z[\"color_image2\"][:]\n",
    "    img_episodes = np.split(imgs2, ep_ends, axis=0)\n",
    "\n",
    "    for i, img_episode in enumerate(img_episodes):\n",
    "        # create_mp4_jupyter(img_episode, f\"{path}_episode_{i}.mp4\", fps=50)\n",
    "        create_mp4(img_episode, f\"{path}_episode_{i}.mp4\", fps=50)\n"
   ]
  },
  {
   "cell_type": "code",
   "execution_count": null,
   "metadata": {},
   "outputs": [],
   "source": [
    "\n"
   ]
  },
  {
   "cell_type": "code",
   "execution_count": null,
   "metadata": {},
   "outputs": [],
   "source": []
  }
 ],
 "metadata": {
  "kernelspec": {
   "display_name": "rr",
   "language": "python",
   "name": "python3"
  },
  "language_info": {
   "codemirror_mode": {
    "name": "ipython",
    "version": 3
   },
   "file_extension": ".py",
   "mimetype": "text/x-python",
   "name": "python",
   "nbconvert_exporter": "python",
   "pygments_lexer": "ipython3",
   "version": "3.8.19"
  }
 },
 "nbformat": 4,
 "nbformat_minor": 2
}
