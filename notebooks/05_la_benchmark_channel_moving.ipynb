{
 "cells": [
  {
   "cell_type": "code",
   "execution_count": 1,
   "metadata": {},
   "outputs": [],
   "source": [
    "import torch"
   ]
  },
  {
   "cell_type": "code",
   "execution_count": 4,
   "metadata": {},
   "outputs": [],
   "source": [
    "# Make 30k \"images\" of 224x224 pixels with 3 channels of uint8\n",
    "images = torch.randint(0, 256, (30000, 3, 224, 224), dtype=torch.uint8)"
   ]
  },
  {
   "cell_type": "code",
   "execution_count": 10,
   "metadata": {},
   "outputs": [],
   "source": [
    "# Make a tensor I can multiply with the images when they are in format (224, 224, 3)\n",
    "# This tensor will be of shape (224, 224, 3)\n",
    "operation = torch.tensor([0.299, 0.587, 0.114], dtype=torch.float32)"
   ]
  },
  {
   "cell_type": "code",
   "execution_count": 17,
   "metadata": {},
   "outputs": [
    {
     "name": "stdout",
     "output_type": "stream",
     "text": [
      "126 ms ± 219 µs per loop (mean ± std. dev. of 7 runs, 10 loops each)\n"
     ]
    }
   ],
   "source": [
    "%%timeit\n",
    "# Iterate over the images\n",
    "for i in range(images.size(0)):\n",
    "    # Move the channels to the end\n",
    "    new_img = images[i].permute(1, 2, 0)\n",
    "\n",
    "    # Multiply the image with the operation tensor\n",
    "    # new_img = new_img * operation\n",
    "\n",
    "    # Move the chanels back to the beginning\n",
    "    new_img = new_img.permute(2, 0, 1)\n"
   ]
  },
  {
   "cell_type": "code",
   "execution_count": 18,
   "metadata": {},
   "outputs": [
    {
     "name": "stdout",
     "output_type": "stream",
     "text": [
      "38.5 ms ± 56.1 µs per loop (mean ± std. dev. of 7 runs, 10 loops each)\n"
     ]
    }
   ],
   "source": [
    "%%timeit\n",
    "# Iterate over the images\n",
    "for i in range(images.size(0)):\n",
    "    # Move the channels to the end\n",
    "    new_img = images[i]"
   ]
  },
  {
   "cell_type": "code",
   "execution_count": null,
   "metadata": {},
   "outputs": [],
   "source": []
  }
 ],
 "metadata": {
  "kernelspec": {
   "display_name": "rr",
   "language": "python",
   "name": "python3"
  },
  "language_info": {
   "codemirror_mode": {
    "name": "ipython",
    "version": 3
   },
   "file_extension": ".py",
   "mimetype": "text/x-python",
   "name": "python",
   "nbconvert_exporter": "python",
   "pygments_lexer": "ipython3",
   "version": "3.8.19"
  }
 },
 "nbformat": 4,
 "nbformat_minor": 2
}
