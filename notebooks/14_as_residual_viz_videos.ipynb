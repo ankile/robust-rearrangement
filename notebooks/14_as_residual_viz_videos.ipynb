{
 "cells": [
  {
   "cell_type": "code",
   "execution_count": 1,
   "metadata": {},
   "outputs": [],
   "source": [
    "import os\n",
    "import numpy \n",
    "import imageio\n",
    "from pathlib import Path\n",
    "\n",
    "from src.visualization.render_mp4 import create_mp4_jupyter"
   ]
  },
  {
   "cell_type": "code",
   "execution_count": 8,
   "metadata": {},
   "outputs": [
    {
     "name": "stderr",
     "output_type": "stream",
     "text": [
      "/tmp/ipykernel_1328612/2823754964.py:14: DeprecationWarning: Starting with ImageIO v3 the behavior of this function will switch to that of iio.v3.imread. To keep the current behavior (and make this warning disappear) use `import imageio.v2 as imageio` or call `imageio.v2.imread` directly.\n",
      "  np_imgs = [imageio.imread(fn) for fn in img_paths]\n"
     ]
    },
    {
     "name": "stdout",
     "output_type": "stream",
     "text": [
      "909 (480, 640, 4)\n"
     ]
    }
   ],
   "source": [
    "# dirname = \"/home/anthony/Documents/Kit/shared/screenshots/grasp_seq1\"\n",
    "dirname = Path(os.environ[\"RARL_SOURCE_DIR\"]) / \"sim2real/output/camera\" \n",
    "\n",
    "# dirname = dirname / \"2024-06-12T10:44:09.802030_substeps_3_2024-06-12T16:08:22_viewer\"\n",
    "# dirname = dirname / \"2024-06-12T10:44:11.212865_substeps_3_2024-06-12T16:20:42_viewer\"\n",
    "dirname = dirname / \"2024-06-12T10:44:06.830951_substeps_3_2024-06-12T16:37:08_viewer\"\n",
    "\n",
    "dirname = str(dirname)\n",
    "img_paths = [os.path.join(dirname, fn) for fn in os.listdir(dirname)]\n",
    "img_nums = [int(val.replace(\".png\", \"\").split(\"_\")[-1]) for val in img_paths]\n",
    "img_paths_nums = sorted(zip(img_paths, img_nums), key=lambda x: x[1])\n",
    "img_paths, _ = zip(*img_paths_nums)\n",
    "# img_paths = sorted([os.path.join(dirname, fn) for fn in os.listdir(dirname)])\n",
    "\n",
    "np_imgs = [imageio.imread(fn) for fn in img_paths]\n",
    "print(len(np_imgs), np_imgs[0].shape)"
   ]
  },
  {
   "cell_type": "code",
   "execution_count": 9,
   "metadata": {},
   "outputs": [
    {
     "name": "stdout",
     "output_type": "stream",
     "text": [
      "File saved as grasp_seq3.mp4\n"
     ]
    },
    {
     "data": {
      "text/html": [
       "<video controls src=\"grasp_seq3.mp4\" width=\"640\" height=\"480\"></video>"
      ],
      "text/plain": [
       "<IPython.core.display.HTML object>"
      ]
     },
     "metadata": {},
     "output_type": "display_data"
    }
   ],
   "source": [
    "create_mp4_jupyter(np_imgs, filename=\"grasp_seq3.mp4\", fps=50)"
   ]
  },
  {
   "cell_type": "code",
   "execution_count": 2,
   "metadata": {},
   "outputs": [
    {
     "name": "stderr",
     "output_type": "stream",
     "text": [
      "/tmp/ipykernel_186403/3243148512.py:11: DeprecationWarning: Starting with ImageIO v3 the behavior of this function will switch to that of iio.v3.imread. To keep the current behavior (and make this warning disappear) use `import imageio.v2 as imageio` or call `imageio.v2.imread` directly.\n",
      "  np_imgs = [imageio.imread(fn) for fn in img_paths]\n"
     ]
    },
    {
     "name": "stdout",
     "output_type": "stream",
     "text": [
      "608 (1440, 1920, 4)\n",
      "File saved as videos/bad_bc/1.mp4\n"
     ]
    },
    {
     "data": {
      "text/html": [
       "<video controls src=\"videos/bad_bc/1.mp4\" width=\"640\" height=\"480\"></video>"
      ],
      "text/plain": [
       "<IPython.core.display.HTML object>"
      ]
     },
     "metadata": {},
     "output_type": "display_data"
    }
   ],
   "source": [
    "dirname = Path(os.environ[\"RARL_SOURCE_DIR\"]) / \"sim2real/output/camera\" \n",
    "dirname = dirname / \"2024-05-29T10:38:13.522210_substeps_3_2024-07-14T16:51:45_viewer\"\n",
    "\n",
    "dirname = str(dirname)\n",
    "img_paths = [os.path.join(dirname, fn) for fn in os.listdir(dirname)]\n",
    "img_nums = [int(val.replace(\".png\", \"\").split(\"_\")[-1]) for val in img_paths]\n",
    "img_paths_nums = sorted(zip(img_paths, img_nums), key=lambda x: x[1])\n",
    "img_paths, _ = zip(*img_paths_nums)\n",
    "# img_paths = sorted([os.path.join(dirname, fn) for fn in os.listdir(dirname)])\n",
    "\n",
    "np_imgs = [imageio.imread(fn) for fn in img_paths]\n",
    "print(len(np_imgs), np_imgs[0].shape)\n",
    "\n",
    "create_mp4_jupyter(np_imgs, filename=\"videos/bad_bc/1.mp4\", fps=40)"
   ]
  }
 ],
 "metadata": {
  "kernelspec": {
   "display_name": "robust-furn-env",
   "language": "python",
   "name": "python3"
  },
  "language_info": {
   "codemirror_mode": {
    "name": "ipython",
    "version": 3
   },
   "file_extension": ".py",
   "mimetype": "text/x-python",
   "name": "python",
   "nbconvert_exporter": "python",
   "pygments_lexer": "ipython3",
   "version": "3.8.19"
  }
 },
 "nbformat": 4,
 "nbformat_minor": 2
}
