{
 "cells": [
  {
   "cell_type": "code",
   "execution_count": null,
   "metadata": {},
   "outputs": [],
   "source": [
    "import os\n",
    "from pathlib import Path\n",
    "\n",
    "from src.common.files import get_raw_paths"
   ]
  },
  {
   "cell_type": "code",
   "execution_count": null,
   "metadata": {},
   "outputs": [],
   "source": [
    "base_pkl_path = Path(\"/home/anthony/repos/research/robust-rearrangement/src/sim2real/scripts\")\n",
    "# pkl_path = base_pkl_path / \"rerender/one_leg/domain_rand/residual-ppo-dr-med-1/h7dg0og4/rollout/med_base_base/2024-05-30T19:41:28.pkl\"\n",
    "pkl_path = base_pkl_path / \"rerender/one_leg/domain_rand/residual-ppo-dr-med-1/h7dg0og4/rollout/med_base_base_320-1_light_drama/2024-06-01T22:39:58.pkl\"\n",
    "# pkl_path = base_pkl_path / \"rerender/one_leg/domain_rand/residual-ppo-dr-med-1/h7dg0og4/rollout/med_base_base_320-2_light_drama/2024-06-01T22:43:26.pkl\"\n",
    "\n",
    "# base_path = Path(\"/data/scratch-oc40/pulkitag/ankile/furniture-data/\")\n",
    "# os.environ[\"DATA_DIR_RAW\"] = str(base_path)\n",
    "\n",
    "raw_paths = get_raw_paths(\n",
    "    controller=\"diffik\",\n",
    "    domain=\"sim\",\n",
    "    demo_outcome=\"success\",\n",
    "    demo_source=\"teleop\",\n",
    "    randomness=\"low\",\n",
    "    task=\"mug_rack\",\n",
    ")\n",
    "\n",
    "len(raw_paths)\n",
    "pkl_path = raw_paths[0]\n",
    "\n",
    "from src.visualization.render_mp4 import mp4_from_pickle_jupyter\n",
    "\n",
    "mp4_from_pickle_jupyter(pkl_path, 'mug_rack.mp4')"
   ]
  }
 ],
 "metadata": {
  "kernelspec": {
   "display_name": "robust-furn-env",
   "language": "python",
   "name": "python3"
  },
  "language_info": {
   "codemirror_mode": {
    "name": "ipython",
    "version": 3
   },
   "file_extension": ".py",
   "mimetype": "text/x-python",
   "name": "python",
   "nbconvert_exporter": "python",
   "pygments_lexer": "ipython3",
   "version": "3.8.19"
  }
 },
 "nbformat": 4,
 "nbformat_minor": 2
}
