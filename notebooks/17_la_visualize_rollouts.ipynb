{
 "cells": [
  {
   "cell_type": "code",
   "execution_count": null,
   "metadata": {},
   "outputs": [],
   "source": [
    "%load_ext autoreload\n",
    "%autoreload 2"
   ]
  },
  {
   "cell_type": "code",
   "execution_count": null,
   "metadata": {},
   "outputs": [],
   "source": [
    "import random\n",
    "\n",
    "from src.common.files import get_raw_paths\n",
    "from src.visualization.render_mp4 import mp4_from_pickle_jupyter"
   ]
  },
  {
   "cell_type": "code",
   "execution_count": null,
   "metadata": {},
   "outputs": [],
   "source": [
    "paths = get_raw_paths(\n",
    "    domain=\"sim\",\n",
    "    demo_source=\"rollout\",\n",
    "    controller=\"diffik\",\n",
    "    randomness=\"low\",\n",
    "    task=\"one_leg\",\n",
    "    demo_outcome=\"success\",\n",
    "    suffix=\"rppo_10_demos\",\n",
    ")\n",
    "\n",
    "len(paths)"
   ]
  },
  {
   "cell_type": "code",
   "execution_count": null,
   "metadata": {},
   "outputs": [],
   "source": [
    "for i, path in enumerate(paths):\n",
    "    mp4_from_pickle_jupyter(path, filename=f\"rppo_10_demos_{i}.mp4\")"
   ]
  },
  {
   "cell_type": "markdown",
   "metadata": {},
   "source": [
    "## Visualize policy before and after RL training"
   ]
  },
  {
   "cell_type": "markdown",
   "metadata": {},
   "source": [
    "### Before training"
   ]
  },
  {
   "cell_type": "code",
   "execution_count": null,
   "metadata": {},
   "outputs": [],
   "source": [
    "bc_paths = get_raw_paths(\n",
    "    domain=\"sim\",\n",
    "    demo_source=\"rollout\",\n",
    "    controller=\"diffik\",\n",
    "    randomness=\"low\",\n",
    "    task=\"one_leg\",\n",
    "    demo_outcome=\"failure\",\n",
    "    suffix=\"side_by_side_bc\",\n",
    ")\n",
    "\n",
    "random.shuffle(bc_paths)\n",
    "\n",
    "len(bc_paths)"
   ]
  },
  {
   "cell_type": "code",
   "execution_count": null,
   "metadata": {},
   "outputs": [],
   "source": [
    "for i, path in enumerate(bc_paths[:5]):\n",
    "    mp4_from_pickle_jupyter(path, filename=f\"side_by_side_bc_{i}.mp4\", cameras=[2])"
   ]
  },
  {
   "cell_type": "markdown",
   "metadata": {},
   "source": [
    "### After training"
   ]
  },
  {
   "cell_type": "code",
   "execution_count": null,
   "metadata": {},
   "outputs": [],
   "source": [
    "rl_paths = get_raw_paths(\n",
    "    domain=\"sim\",\n",
    "    demo_source=\"rollout\",\n",
    "    controller=\"diffik\",\n",
    "    randomness=\"low\",\n",
    "    task=\"one_leg\",\n",
    "    demo_outcome=\"success\",\n",
    "    suffix=\"side_by_side_rl\",\n",
    ")\n",
    "\n",
    "random.shuffle(bc_paths)\n",
    "\n",
    "len(rl_paths)"
   ]
  },
  {
   "cell_type": "code",
   "execution_count": null,
   "metadata": {},
   "outputs": [],
   "source": [
    "for i, path in enumerate(rl_paths[:5]):\n",
    "    mp4_from_pickle_jupyter(path, filename=f\"side_by_side_rl_{i}.mp4\", cameras=[2])"
   ]
  },
  {
   "cell_type": "code",
   "execution_count": null,
   "metadata": {},
   "outputs": [],
   "source": []
  }
 ],
 "metadata": {
  "kernelspec": {
   "display_name": "rr",
   "language": "python",
   "name": "python3"
  },
  "language_info": {
   "codemirror_mode": {
    "name": "ipython",
    "version": 3
   },
   "file_extension": ".py",
   "mimetype": "text/x-python",
   "name": "python",
   "nbconvert_exporter": "python",
   "pygments_lexer": "ipython3",
   "version": "3.8.19"
  }
 },
 "nbformat": 4,
 "nbformat_minor": 2
}
